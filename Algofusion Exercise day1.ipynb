{
 "cells": [
  {
   "cell_type": "code",
   "execution_count": 1,
   "id": "7270df72",
   "metadata": {},
   "outputs": [
    {
     "name": "stdout",
     "output_type": "stream",
     "text": [
      "Enter your surname: alwala\n",
      "Enter your given name: varshith\n"
     ]
    }
   ],
   "source": [
    "surname = input(\"Enter your surname: \")\n",
    "name = input(\"Enter your given name: \")"
   ]
  },
  {
   "cell_type": "code",
   "execution_count": 2,
   "id": "4a0b7b47",
   "metadata": {},
   "outputs": [
    {
     "name": "stdout",
     "output_type": "stream",
     "text": [
      "Varshith Alwala\n"
     ]
    }
   ],
   "source": [
    "full_name = name.capitalize() + \" \" + surname.capitalize()\n",
    "print(full_name)\n"
   ]
  },
  {
   "cell_type": "code",
   "execution_count": 3,
   "id": "b576cae2",
   "metadata": {},
   "outputs": [
    {
     "name": "stdout",
     "output_type": "stream",
     "text": [
      "A. Varshith\n"
     ]
    }
   ],
   "source": [
    "short_name = surname[0].upper() + \". \" + name.capitalize()\n",
    "print(short_name)"
   ]
  },
  {
   "cell_type": "code",
   "execution_count": 4,
   "id": "878b3cff",
   "metadata": {},
   "outputs": [
    {
     "name": "stdout",
     "output_type": "stream",
     "text": [
      "Varshith\n"
     ]
    }
   ],
   "source": [
    "limited_given_name = name[:15]\n",
    "print(limited_given_name.capitalize())"
   ]
  },
  {
   "cell_type": "code",
   "execution_count": 5,
   "id": "76bf8465",
   "metadata": {},
   "outputs": [
    {
     "name": "stdout",
     "output_type": "stream",
     "text": [
      "Global Economy Shows Promising Signs of Recovery Amidst Ongoing Pandemic As countries continue to grapple with the challenges posed by the pandemic there are glimmers of hope in the global economy Recent data indicates that several major economies have started to rebound with increased consumer spending improved manufacturing output and resurgent trade activities While uncertainties remain experts believe that targeted fiscal policies and vaccination efforts have contributed to these positive trends However some regions still face significant setbacks urging the need for continued international cooperation to ensure a stable and sustainable recovery\n"
     ]
    }
   ],
   "source": [
    "import string\n",
    "\n",
    "news_paragraph = \"Global Economy Shows Promising Signs of Recovery Amidst Ongoing Pandemic. As countries continue to grapple with the challenges posed by the pandemic, there are glimmers of hope in the global economy. Recent data indicates that several major economies have started to rebound, with increased consumer spending, improved manufacturing output, and resurgent trade activities. While uncertainties remain, experts believe that targeted fiscal policies and vaccination efforts have contributed to these positive trends. However, some regions still face significant setbacks, urging the need for continued international cooperation to ensure a stable and sustainable recovery.\"\n",
    "# Remove punctuation marks\n",
    "str1 = news_paragraph.translate(str.maketrans('', '', string.punctuation))\n",
    "print(str1)\n"
   ]
  },
  {
   "cell_type": "code",
   "execution_count": 6,
   "id": "52f8a643",
   "metadata": {},
   "outputs": [
    {
     "name": "stdout",
     "output_type": "stream",
     "text": [
      "['Global', 'Economy', 'Shows', 'Promising', 'Signs', 'of', 'Recovery', 'Amidst', 'Ongoing', 'Pandemic', 'As', 'countries', 'continue', 'to', 'grapple', 'with', 'the', 'challenges', 'posed', 'by', 'the', 'pandemic', 'there', 'are', 'glimmers', 'of', 'hope', 'in', 'the', 'global', 'economy', 'Recent', 'data', 'indicates', 'that', 'several', 'major', 'economies', 'have', 'started', 'to', 'rebound', 'with', 'increased', 'consumer', 'spending', 'improved', 'manufacturing', 'output', 'and', 'resurgent', 'trade', 'activities', 'While', 'uncertainties', 'remain', 'experts', 'believe', 'that', 'targeted', 'fiscal', 'policies', 'and', 'vaccination', 'efforts', 'have', 'contributed', 'to', 'these', 'positive', 'trends', 'However', 'some', 'regions', 'still', 'face', 'significant', 'setbacks', 'urging', 'the', 'need', 'for', 'continued', 'international', 'cooperation', 'to', 'ensure', 'a', 'stable', 'and', 'sustainable', 'recovery']\n"
     ]
    }
   ],
   "source": [
    "L1 = str1.split()\n",
    "print(L1)\n"
   ]
  },
  {
   "cell_type": "code",
   "execution_count": 7,
   "id": "0fb26fae",
   "metadata": {},
   "outputs": [
    {
     "name": "stdout",
     "output_type": "stream",
     "text": [
      "{'Global': 1, 'Economy': 1, 'Shows': 1, 'Promising': 1, 'Signs': 1, 'of': 2, 'Recovery': 1, 'Amidst': 1, 'Ongoing': 1, 'Pandemic': 1, 'As': 1, 'countries': 1, 'continue': 1, 'to': 4, 'grapple': 1, 'with': 2, 'the': 4, 'challenges': 1, 'posed': 1, 'by': 1, 'pandemic': 1, 'there': 1, 'are': 1, 'glimmers': 1, 'hope': 1, 'in': 1, 'global': 1, 'economy': 1, 'Recent': 1, 'data': 1, 'indicates': 1, 'that': 2, 'several': 1, 'major': 1, 'economies': 1, 'have': 2, 'started': 1, 'rebound': 1, 'increased': 1, 'consumer': 1, 'spending': 1, 'improved': 1, 'manufacturing': 1, 'output': 1, 'and': 3, 'resurgent': 1, 'trade': 1, 'activities': 1, 'While': 1, 'uncertainties': 1, 'remain': 1, 'experts': 1, 'believe': 1, 'targeted': 1, 'fiscal': 1, 'policies': 1, 'vaccination': 1, 'efforts': 1, 'contributed': 1, 'these': 1, 'positive': 1, 'trends': 1, 'However': 1, 'some': 1, 'regions': 1, 'still': 1, 'face': 1, 'significant': 1, 'setbacks': 1, 'urging': 1, 'need': 1, 'for': 1, 'continued': 1, 'international': 1, 'cooperation': 1, 'ensure': 1, 'a': 1, 'stable': 1, 'sustainable': 1, 'recovery': 1}\n"
     ]
    }
   ],
   "source": [
    "d1 = {}\n",
    "for word in L1:\n",
    "    if word in d1:\n",
    "        d1[word] += 1\n",
    "    else:\n",
    "        d1[word] = 1\n",
    "\n",
    "print(d1)\n"
   ]
  },
  {
   "cell_type": "code",
   "execution_count": 8,
   "id": "47b3ace0",
   "metadata": {},
   "outputs": [
    {
     "name": "stdout",
     "output_type": "stream",
     "text": [
      "           word  No of occurrences\n",
      "0        Global                  1\n",
      "1       Economy                  1\n",
      "2         Shows                  1\n",
      "3     Promising                  1\n",
      "4         Signs                  1\n",
      "..          ...                ...\n",
      "75       ensure                  1\n",
      "76            a                  1\n",
      "77       stable                  1\n",
      "78  sustainable                  1\n",
      "79     recovery                  1\n",
      "\n",
      "[80 rows x 2 columns]\n"
     ]
    }
   ],
   "source": [
    "import pandas as pd\n",
    "\n",
    "# Create a data frame from the dictionary\n",
    "df = pd.DataFrame(list(d1.items()), columns=['word', 'No of occurrences'])\n",
    "print(df)\n"
   ]
  },
  {
   "cell_type": "code",
   "execution_count": null,
   "id": "a9eb014b",
   "metadata": {},
   "outputs": [],
   "source": []
  }
 ],
 "metadata": {
  "kernelspec": {
   "display_name": "Python 3 (ipykernel)",
   "language": "python",
   "name": "python3"
  },
  "language_info": {
   "codemirror_mode": {
    "name": "ipython",
    "version": 3
   },
   "file_extension": ".py",
   "mimetype": "text/x-python",
   "name": "python",
   "nbconvert_exporter": "python",
   "pygments_lexer": "ipython3",
   "version": "3.10.9"
  }
 },
 "nbformat": 4,
 "nbformat_minor": 5
}
